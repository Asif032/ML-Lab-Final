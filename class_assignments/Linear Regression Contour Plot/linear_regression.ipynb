{
  "cells": [
    {
      "cell_type": "code",
      "execution_count": null,
      "metadata": {
        "colab": {
          "base_uri": "https://localhost:8080/"
        },
        "id": "_EZy_OwB7v3t",
        "outputId": "9fc00541-c367-4a3f-8fe9-bf653d6102f8"
      },
      "outputs": [],
      "source": [
        "import pandas as pd\n",
        "import matplotlib.pyplot as plt\n",
        "import csv\n",
        "import numpy as np\n",
        "import seaborn as sns"
      ]
    },
    {
      "cell_type": "code",
      "execution_count": null,
      "metadata": {
        "colab": {
          "base_uri": "https://localhost:8080/",
          "height": 206
        },
        "id": "e1TjX6Xu9F18",
        "outputId": "73b74402-edd6-4646-e157-fa2406b5a5b1"
      },
      "outputs": [],
      "source": [
        "data = pd.read_csv('./4K_House_Rent_Dataset.csv')\n",
        "data.head()"
      ]
    },
    {
      "cell_type": "code",
      "execution_count": null,
      "metadata": {
        "colab": {
          "base_uri": "https://localhost:8080/"
        },
        "id": "nWBXm9ph-y-U",
        "outputId": "075f1e9f-83bf-4773-d245-a5e50199cffb"
      },
      "outputs": [],
      "source": [
        "data.shape"
      ]
    },
    {
      "cell_type": "markdown",
      "metadata": {},
      "source": [
        "### Gradient Descent"
      ]
    },
    {
      "cell_type": "code",
      "execution_count": null,
      "metadata": {
        "colab": {
          "base_uri": "https://localhost:8080/",
          "height": 308
        },
        "id": "CpHdQxQrmmce",
        "outputId": "df57d147-c711-4014-801f-8b0c35b58fb1"
      },
      "outputs": [],
      "source": [
        "import numpy as np\n",
        "import matplotlib.pyplot as plt\n",
        "\n",
        "# Assuming data is loaded and defined earlier\n",
        "\n",
        "X = data['Size']\n",
        "Y = data['Rent']\n",
        "\n",
        "m = len(X)\n",
        "epoch = 100\n",
        "learning_rate = 0.0000001\n",
        "theta_0 = 0\n",
        "theta_1 = 3\n",
        "\n",
        "# Lists to store theta values for contour plot\n",
        "theta0_vals = []\n",
        "theta1_vals = []\n",
        "cost_vals = []\n",
        "\n",
        "for i in range(epoch):\n",
        "    temp_0 = 0\n",
        "    temp_1 = 0\n",
        "    for j in range(m):\n",
        "        temp_0 += (theta_0 + theta_1 * X[j] - Y[j])\n",
        "        temp_1 += (theta_0 + theta_1 * X[j] - Y[j]) * X[j]\n",
        "\n",
        "    theta_0 = theta_0 - learning_rate * (temp_0) / m\n",
        "    theta_1 = theta_1 - learning_rate * (temp_1) / m\n",
        "\n",
        "    sum_ = 0\n",
        "    for k in range(m):\n",
        "        sum_ += (theta_0 + theta_1 * X[k] - Y[k]) ** 2\n",
        "    cost = sum_ / (2 * m)\n",
        "\n",
        "    # Append values for contour plot\n",
        "    theta0_vals.append(theta_0)\n",
        "    theta1_vals.append(theta_1)\n",
        "    cost_vals.append(cost)\n",
        "\n",
        "\n",
        "# Plotting Data and Regression Line\n",
        "max_x = np.max(X) + 100\n",
        "min_x = np.min(X) - 100\n",
        "\n",
        "x = np.linspace(min_x, max_x, 1000)\n",
        "y = theta_1 * x + theta_0\n",
        "\n",
        "plt.figure(figsize=(12, 5))\n",
        "\n",
        "# Scatter Plot\n",
        "plt.scatter(X, Y, c=\"#ef5423\", label='Scatter Plot')\n",
        "plt.plot(x, y, color='#58b970', label='Regression Line')\n",
        "plt.xlabel('House Size')\n",
        "plt.ylabel('Price')\n",
        "plt.legend()\n",
        "\n",
        "plt.show()\n"
      ]
    },
    {
      "cell_type": "markdown",
      "metadata": {},
      "source": [
        "### Contour Plot"
      ]
    },
    {
      "cell_type": "code",
      "execution_count": null,
      "metadata": {},
      "outputs": [],
      "source": [
        "def loss(a,b):\n",
        "  return 1/len(X)*(np.sum((a*X + b - Y)**2))  \n",
        "\n",
        "fig = plt.figure(figsize=(14,6))\n",
        "ax = fig.add_subplot(1, 2, 1, projection=\"3d\")\n",
        "a = np.arange(-400, 400, 5)\n",
        "b = np.arange(-300000, 300000, 20000)\n",
        "A, B = np.meshgrid(a, b) # makes repetetive 2D arrays from a and b\n",
        "zs = np.array([loss(a,b) for a,b in zip(np.ravel(A), np.ravel(B))])\n",
        "loss_vals = zs.reshape(A.shape)\n",
        "\n",
        "ax.plot_surface(A, B, loss_vals, cmap=\"viridis\", rstride=3, cstride=3,edgecolor='none',alpha=0.8)\n",
        "ax.contour(A, B, loss_vals, 30, cmap=\"viridis\", linestyles=\"solid\", offset=0)\n",
        "ax.view_init(40, 290)\n",
        "\n",
        "ax.set_xlabel('theta_0')\n",
        "ax.set_ylabel('theta_1')\n",
        "ax.set_zlabel('cost',rotation=\"vertical\")\n",
        "ax.set_title('Contour Plot')\n",
        "# ax.scatter3D(2.95, 2.95, 6.1589, c=\"r\",s=90)\n",
        "plt.tick_params(axis='both', which='major', labelsize=7)"
      ]
    },
    {
      "cell_type": "markdown",
      "metadata": {
        "id": "B3AnhyzRsv8m"
      },
      "source": [
        "### Normal Equation (using the Dataset used in 1st section : Univariate Linear Regression:)"
      ]
    },
    {
      "cell_type": "code",
      "execution_count": null,
      "metadata": {
        "id": "L9Jd8HEns2c2"
      },
      "outputs": [],
      "source": [
        "import pandas as pd\n",
        "import matplotlib.pyplot as plt\n",
        "import csv\n",
        "import numpy as np\n",
        "import seaborn as sns"
      ]
    },
    {
      "cell_type": "code",
      "execution_count": null,
      "metadata": {
        "colab": {
          "base_uri": "https://localhost:8080/"
        },
        "id": "mKOWQN5zwSNG",
        "outputId": "1fa69d40-4962-4ea5-baf2-5274dfc70d1c"
      },
      "outputs": [],
      "source": [
        "X = np.array([[1, 2000], [1, 2100], [1, 1100], [1, 2200], [1, 1000]])\n",
        "S = np.matmul(X.T, X)\n",
        "Y = np.array([[810], [907], [312], [950], [301]])\n",
        "P = np.matmul(X.T, Y)\n",
        "from numpy.linalg import inv\n",
        "S = inv(S)\n",
        "theta = np.matmul(S, P)\n",
        "print(theta)"
      ]
    }
  ],
  "metadata": {
    "colab": {
      "provenance": []
    },
    "kernelspec": {
      "display_name": "Python 3",
      "name": "python3"
    },
    "language_info": {
      "codemirror_mode": {
        "name": "ipython",
        "version": 3
      },
      "file_extension": ".py",
      "mimetype": "text/x-python",
      "name": "python",
      "nbconvert_exporter": "python",
      "pygments_lexer": "ipython3",
      "version": "3.11.4"
    }
  },
  "nbformat": 4,
  "nbformat_minor": 0
}
